{
 "cells": [
  {
   "cell_type": "code",
   "execution_count": null,
   "id": "b3ba9dab-c635-4378-9f3f-b67850c1b733",
   "metadata": {},
   "outputs": [],
   "source": [
    "from sklearn.metrics import roc_curve, roc_auc_score, confusion_matrix\n",
    "import numpy as np\n",
    "\n",
    "\n",
    "catboost_clf = CatBoostClassifier(verbose=False)\n",
    "catboost_clf.fit(X_train, y_train)\n",
    "\n",
    "\n",
    "y_pred_proba = catboost_clf.predict_proba(X_test)[:, 1]\n",
    "\n",
    "\n",
    "fpr, tpr, thresholds = roc_curve(y_test, y_pred_proba)\n",
    "\n",
    "\n",
    "youden_j = tpr - fpr\n",
    "optimal_idx = np.argmax(youden_j)\n",
    "optimal_threshold = thresholds[optimal_idx]\n",
    "\n",
    "\n",
    "print(f\"Optimal threshold for CatBoost model: {optimal_threshold}\")\n",
    "\n",
    "\n",
    "y_pred_optimal = (y_pred_proba >= optimal_threshold).astype(int)\n",
    "cm = confusion_matrix(y_test, y_pred_optimal)\n",
    "print(\"Confusion Matrix at optimal threshold:\")\n",
    "print(cm)"
   ]
  }
 ],
 "metadata": {
  "kernelspec": {
   "display_name": "Python 3 (ipykernel)",
   "language": "python",
   "name": "python3"
  },
  "language_info": {
   "codemirror_mode": {
    "name": "ipython",
    "version": 3
   },
   "file_extension": ".py",
   "mimetype": "text/x-python",
   "name": "python",
   "nbconvert_exporter": "python",
   "pygments_lexer": "ipython3",
   "version": "3.8.10"
  }
 },
 "nbformat": 4,
 "nbformat_minor": 5
}
